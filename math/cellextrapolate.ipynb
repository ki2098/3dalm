{
 "cells": [
  {
   "cell_type": "code",
   "execution_count": 1,
   "id": "3a9e8e31",
   "metadata": {},
   "outputs": [],
   "source": [
    "import sympy as sp"
   ]
  },
  {
   "cell_type": "code",
   "execution_count": 2,
   "id": "c8c3fbf5",
   "metadata": {},
   "outputs": [],
   "source": [
    "a, b, c = sp.symbols('a, b, c')"
   ]
  },
  {
   "cell_type": "code",
   "execution_count": 3,
   "id": "c1261d4e",
   "metadata": {},
   "outputs": [
    {
     "data": {
      "text/latex": [
       "$\\displaystyle - \\frac{3 a}{2} + 2 b - \\frac{c}{2}$"
      ],
      "text/plain": [
       "-3*a/2 + 2*b - c/2"
      ]
     },
     "execution_count": 3,
     "metadata": {},
     "output_type": "execute_result"
    }
   ],
   "source": [
    "hba = b - a\n",
    "hcb = c - b\n",
    "hao = 2*hba - hcb\n",
    "o = a - hao\n",
    "Da = (b - o)/2\n",
    "Da"
   ]
  },
  {
   "cell_type": "code",
   "execution_count": 4,
   "id": "75bece05",
   "metadata": {},
   "outputs": [
    {
     "data": {
      "text/latex": [
       "$\\displaystyle 3 a - 3 b + c$"
      ],
      "text/plain": [
       "3*a - 3*b + c"
      ]
     },
     "execution_count": 4,
     "metadata": {},
     "output_type": "execute_result"
    }
   ],
   "source": [
    "o"
   ]
  },
  {
   "cell_type": "code",
   "execution_count": 5,
   "id": "bc65581d",
   "metadata": {},
   "outputs": [
    {
     "data": {
      "text/latex": [
       "$\\displaystyle \\frac{3 a}{2} - 2 b + \\frac{c}{2}$"
      ],
      "text/plain": [
       "3*a/2 - 2*b + c/2"
      ]
     },
     "execution_count": 5,
     "metadata": {},
     "output_type": "execute_result"
    }
   ],
   "source": [
    "hab = a - b\n",
    "hbc = b - c\n",
    "hoa = 2*hab - hbc\n",
    "o = a + hoa\n",
    "Da = (o - b)/2\n",
    "Da"
   ]
  },
  {
   "cell_type": "code",
   "execution_count": 6,
   "id": "e2930adb",
   "metadata": {},
   "outputs": [
    {
     "data": {
      "text/latex": [
       "$\\displaystyle 3 a - 3 b + c$"
      ],
      "text/plain": [
       "3*a - 3*b + c"
      ]
     },
     "execution_count": 6,
     "metadata": {},
     "output_type": "execute_result"
    }
   ],
   "source": [
    "o"
   ]
  },
  {
   "cell_type": "code",
   "execution_count": null,
   "id": "0ebe87a4",
   "metadata": {},
   "outputs": [],
   "source": []
  }
 ],
 "metadata": {
  "kernelspec": {
   "display_name": "base",
   "language": "python",
   "name": "python3"
  },
  "language_info": {
   "codemirror_mode": {
    "name": "ipython",
    "version": 3
   },
   "file_extension": ".py",
   "mimetype": "text/x-python",
   "name": "python",
   "nbconvert_exporter": "python",
   "pygments_lexer": "ipython3",
   "version": "3.12.9"
  }
 },
 "nbformat": 4,
 "nbformat_minor": 5
}
