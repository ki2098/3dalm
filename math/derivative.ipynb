{
 "cells": [
  {
   "cell_type": "code",
   "execution_count": 1,
   "id": "60f5a4f4",
   "metadata": {},
   "outputs": [],
   "source": [
    "from sympy import symbols\n",
    "from sympy.matrices import Matrix"
   ]
  },
  {
   "cell_type": "code",
   "execution_count": 2,
   "id": "c262f02f",
   "metadata": {},
   "outputs": [],
   "source": [
    "h1, h2 = symbols('h_1, h_2')\n",
    "f0, f1, f2 = symbols('f_0, f_1, f_2')"
   ]
  },
  {
   "cell_type": "code",
   "execution_count": 3,
   "id": "4f4cb15e",
   "metadata": {},
   "outputs": [],
   "source": [
    "A = Matrix([\n",
    "    [1, 0, 0],\n",
    "    [1, h1, h1**2/2],\n",
    "    [1, h2, h2**2/2]\n",
    "])\n",
    "b = Matrix([\n",
    "    f0,\n",
    "    f1,\n",
    "    f2\n",
    "])"
   ]
  },
  {
   "cell_type": "code",
   "execution_count": 4,
   "id": "ac7f3165",
   "metadata": {},
   "outputs": [
    {
     "data": {
      "text/latex": [
       "$\\displaystyle \\left[\\begin{matrix}f_{0}\\\\\\frac{- f_{0} h_{1}^{2} + f_{0} h_{2}^{2} - f_{1} h_{2}^{2} + f_{2} h_{1}^{2}}{h_{1}^{2} h_{2} - h_{1} h_{2}^{2}}\\\\\\frac{2 f_{0} h_{1} - 2 f_{0} h_{2} + 2 f_{1} h_{2} - 2 f_{2} h_{1}}{h_{1}^{2} h_{2} - h_{1} h_{2}^{2}}\\end{matrix}\\right]$"
      ],
      "text/plain": [
       "Matrix([\n",
       "[                                                                           f_0],\n",
       "[(-f_0*h_1**2 + f_0*h_2**2 - f_1*h_2**2 + f_2*h_1**2)/(h_1**2*h_2 - h_1*h_2**2)],\n",
       "[     (2*f_0*h_1 - 2*f_0*h_2 + 2*f_1*h_2 - 2*f_2*h_1)/(h_1**2*h_2 - h_1*h_2**2)]])"
      ]
     },
     "execution_count": 4,
     "metadata": {},
     "output_type": "execute_result"
    }
   ],
   "source": [
    "x = A.solve(b)\n",
    "x"
   ]
  },
  {
   "cell_type": "code",
   "execution_count": null,
   "id": "2891cd1a",
   "metadata": {},
   "outputs": [],
   "source": []
  }
 ],
 "metadata": {
  "kernelspec": {
   "display_name": "base",
   "language": "python",
   "name": "python3"
  },
  "language_info": {
   "codemirror_mode": {
    "name": "ipython",
    "version": 3
   },
   "file_extension": ".py",
   "mimetype": "text/x-python",
   "name": "python",
   "nbconvert_exporter": "python",
   "pygments_lexer": "ipython3",
   "version": "3.12.9"
  }
 },
 "nbformat": 4,
 "nbformat_minor": 5
}
