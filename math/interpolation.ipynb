{
 "cells": [
  {
   "cell_type": "code",
   "execution_count": 1,
   "id": "9555f7b9",
   "metadata": {},
   "outputs": [],
   "source": [
    "from sympy import symbols\n",
    "from sympy.matrices import Matrix"
   ]
  },
  {
   "cell_type": "code",
   "execution_count": 2,
   "id": "cd3628b5",
   "metadata": {},
   "outputs": [],
   "source": [
    "h = symbols('h')\n",
    "fww, fw, fe, fee = symbols('f_ww, f_w, f_e, f_ee')"
   ]
  },
  {
   "cell_type": "code",
   "execution_count": 3,
   "id": "ad7241fb",
   "metadata": {},
   "outputs": [],
   "source": [
    "dww = - 3*h/2\n",
    "dw = - h/2\n",
    "de = h/2\n",
    "dee = 3*h/2"
   ]
  },
  {
   "cell_type": "code",
   "execution_count": 4,
   "id": "a0abd579",
   "metadata": {},
   "outputs": [],
   "source": [
    "A = Matrix([\n",
    "    [1, dww, dww**2/2, dww**3/6],\n",
    "    [1, dw, dw**2/2, dw**3/6],\n",
    "    [1, de, de**2/2, de**3/6],\n",
    "    [1, dee, dee**2/2, dee**3/6]\n",
    "])\n",
    "b = Matrix([fww, fw, fe, fee])"
   ]
  },
  {
   "cell_type": "code",
   "execution_count": 5,
   "id": "a84d4908",
   "metadata": {},
   "outputs": [
    {
     "data": {
      "text/latex": [
       "$\\displaystyle \\left[\\begin{matrix}\\frac{9 f_{e}}{16} - \\frac{f_{ee}}{16} + \\frac{9 f_{w}}{16} - \\frac{f_{ww}}{16}\\\\\\frac{27 f_{e} - f_{ee} - 27 f_{w} + f_{ww}}{24 h}\\\\\\frac{- f_{e} + f_{ee} - f_{w} + f_{ww}}{2 h^{2}}\\\\\\frac{- 3 f_{e} + f_{ee} + 3 f_{w} - f_{ww}}{h^{3}}\\end{matrix}\\right]$"
      ],
      "text/plain": [
       "Matrix([\n",
       "[9*f_e/16 - f_ee/16 + 9*f_w/16 - f_ww/16],\n",
       "[ (27*f_e - f_ee - 27*f_w + f_ww)/(24*h)],\n",
       "[    (-f_e + f_ee - f_w + f_ww)/(2*h**2)],\n",
       "[    (-3*f_e + f_ee + 3*f_w - f_ww)/h**3]])"
      ]
     },
     "execution_count": 5,
     "metadata": {},
     "output_type": "execute_result"
    }
   ],
   "source": [
    "x = A.solve(b)\n",
    "x"
   ]
  },
  {
   "cell_type": "code",
   "execution_count": null,
   "id": "01c393c2",
   "metadata": {},
   "outputs": [],
   "source": []
  }
 ],
 "metadata": {
  "kernelspec": {
   "display_name": "mypy",
   "language": "python",
   "name": "python3"
  },
  "language_info": {
   "codemirror_mode": {
    "name": "ipython",
    "version": 3
   },
   "file_extension": ".py",
   "mimetype": "text/x-python",
   "name": "python",
   "nbconvert_exporter": "python",
   "pygments_lexer": "ipython3",
   "version": "3.12.3"
  }
 },
 "nbformat": 4,
 "nbformat_minor": 5
}
